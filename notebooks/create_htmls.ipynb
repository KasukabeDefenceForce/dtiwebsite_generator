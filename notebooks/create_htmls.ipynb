{
 "cells": [
  {
   "attachments": {},
   "cell_type": "markdown",
   "metadata": {},
   "source": [
    "### This notebook consist of code for creating the html files for the website each time data is updated."
   ]
  },
  {
   "attachments": {},
   "cell_type": "markdown",
   "metadata": {},
   "source": [
    "##### Set-up"
   ]
  },
  {
   "cell_type": "code",
   "execution_count": 13,
   "metadata": {},
   "outputs": [],
   "source": [
    "\n",
    "import json\n",
    "import os\n",
    "from pathlib import Path\n",
    "import glob\n",
    "import shutil\n",
    "import pandas as pd\n",
    "from jinja2 import Environment, FileSystemLoader\n",
    "from jinja2.exceptions import UndefinedError"
   ]
  },
  {
   "cell_type": "code",
   "execution_count": null,
   "metadata": {},
   "outputs": [],
   "source": [
    "def delete_ds_store(path):\n",
    "\n",
    "    ds_store_files = glob.glob(os.path.join(path, '**', '.DS_Store'), recursive=True)\n",
    "    \n",
    "\n",
    "    for file_path in ds_store_files:\n",
    "        os.remove(file_path)\n",
    "        print(f\"Deleted: {file_path}\")\n",
    "        \n",
    "\n",
    "current_directory = os.getcwd()\n",
    "\n",
    "\n",
    "delete_ds_store(current_directory)\n"
   ]
  },
  {
   "cell_type": "code",
   "execution_count": null,
   "metadata": {},
   "outputs": [],
   "source": [
    "# Copying people directories\n",
    "\n",
    "def copy_folders(source, destination):\n",
    "    try:\n",
    "        shutil.copytree(source, destination)\n",
    "        print(\"Folders copied successfully!\")\n",
    "    except shutil.Error as e:\n",
    "        print(f\"Error copying folders: {e}\")\n",
    "    except OSError as e:\n",
    "        print(f\"Error creating destination directory: {e}\")\n",
    "\n",
    "source_dir = \"../temp/group-data/members\"\n",
    "destination_dir = \"../group-data/members\"\n",
    "\n",
    "for folder_name in os.listdir(source_dir):\n",
    "    folder_path = os.path.join(source_dir, folder_name)\n",
    "    if os.path.isdir(folder_path):\n",
    "        json_path = os.path.join(folder_path, \"jsons\", \"basic_info.json\")\n",
    "        if os.path.exists(json_path):\n",
    "            with open(json_path) as f:\n",
    "                data = json.load(f)\n",
    "                display_info = data.get(\"display\", {})\n",
    "                if display_info.get(\"dti\", True):\n",
    "                    destination_folder = os.path.join(destination_dir, folder_name)\n",
    "                    copy_folders(folder_path, destination_folder)"
   ]
  },
  {
   "cell_type": "code",
   "execution_count": null,
   "metadata": {},
   "outputs": [],
   "source": [
    "# Copying common article content\n",
    "source_folder = '../temp/group-data/website_data'\n",
    "destination_folder = '../group-data/website_data'\n",
    "\n",
    "def copy_json_files(source_folder, destination_folder):\n",
    "    source_content_folder = os.path.join(source_folder, 'content')\n",
    "    destination_content_folder = os.path.join(destination_folder, 'content')\n",
    "    destination_website_files_folder = os.path.join(destination_folder, 'website_files')\n",
    "\n",
    "    os.makedirs(destination_content_folder, exist_ok=True)\n",
    "    os.makedirs(destination_website_files_folder, exist_ok=True)\n",
    "\n",
    "    for filename in os.listdir(source_content_folder):\n",
    "        if filename.endswith('.json'):\n",
    "            file_path = os.path.join(source_content_folder, filename)\n",
    "            with open(file_path, 'r') as file:\n",
    "                try:\n",
    "                    json_data = json.load(file)\n",
    "                    platforms = json_data.get('platforms')\n",
    "                    if platforms and 'dti' in platforms:\n",
    "                        destination_path = os.path.join(destination_content_folder, filename)\n",
    "                        shutil.copy(file_path, destination_path)\n",
    "                        print(f\"Copied file: {filename} from '{source_content_folder}' to '{destination_content_folder}'\")\n",
    "\n",
    "                        process_cover_image(json_data, source_folder, destination_website_files_folder)\n",
    "                        process_content_images(json_data, source_folder, destination_website_files_folder)\n",
    "\n",
    "                except json.JSONDecodeError:\n",
    "                    print(f\"Error decoding JSON in file: {file_path}\")\n",
    "\n",
    "def process_cover_image(json_data, source_folder, destination_website_files_folder):\n",
    "    cover_image_path = json_data.get('cover_image')\n",
    "    if cover_image_path:\n",
    "        source_image_path = os.path.join(source_folder, cover_image_path)\n",
    "        if os.path.exists(source_image_path):\n",
    "            destination_image_path = os.path.join(destination_website_files_folder, 'images', 'article_content', os.path.basename(cover_image_path))\n",
    "            os.makedirs(os.path.dirname(destination_image_path), exist_ok=True)\n",
    "            shutil.copy(source_image_path, destination_image_path)\n",
    "            print(f\"Copied file: {cover_image_path} from '{source_folder}' to '{destination_image_path}'\")\n",
    "\n",
    "def process_content_images(json_data, source_folder, destination_website_files_folder):\n",
    "    content = json_data.get('content')\n",
    "    if content:\n",
    "        for key, value in content.items():\n",
    "            if key.startswith('img'):\n",
    "                image_path = value\n",
    "                if image_path:\n",
    "                    source_image_path = os.path.join(source_folder, image_path)\n",
    "                    if os.path.exists(source_image_path):\n",
    "                        destination_image_path = os.path.join(destination_website_files_folder, 'images', 'article_content', os.path.basename(image_path))\n",
    "                        os.makedirs(os.path.dirname(destination_image_path), exist_ok=True)\n",
    "                        shutil.copy(source_image_path, destination_image_path)\n",
    "                        print(f\"Copied file: {image_path} from '{source_folder}' to '{destination_image_path}'\")\n",
    "\n",
    "copy_json_files(source_folder, destination_folder)\n"
   ]
  },
  {
   "cell_type": "code",
   "execution_count": null,
   "metadata": {},
   "outputs": [],
   "source": [
    "#Function for creating proper html file names\n",
    "def page_link(a):\n",
    "    if ' ' in a:\n",
    "        return a.replace(' ', '_')\n",
    "    else:\n",
    "        return a"
   ]
  },
  {
   "cell_type": "code",
   "execution_count": 14,
   "metadata": {},
   "outputs": [
    {
     "data": {
      "text/html": [
       "<div>\n",
       "<style scoped>\n",
       "    .dataframe tbody tr th:only-of-type {\n",
       "        vertical-align: middle;\n",
       "    }\n",
       "\n",
       "    .dataframe tbody tr th {\n",
       "        vertical-align: top;\n",
       "    }\n",
       "\n",
       "    .dataframe thead th {\n",
       "        text-align: right;\n",
       "    }\n",
       "</style>\n",
       "<table border=\"1\" class=\"dataframe\">\n",
       "  <thead>\n",
       "    <tr style=\"text-align: right;\">\n",
       "      <th></th>\n",
       "      <th>first_name</th>\n",
       "      <th>last_name</th>\n",
       "      <th>image_path</th>\n",
       "      <th>cover_image_path</th>\n",
       "      <th>id</th>\n",
       "      <th>introduction</th>\n",
       "      <th>nick_name</th>\n",
       "    </tr>\n",
       "  </thead>\n",
       "  <tbody>\n",
       "    <tr>\n",
       "      <th>0</th>\n",
       "      <td>Sofia</td>\n",
       "      <td>Biriouk</td>\n",
       "      <td>media/images/sofia.jpg</td>\n",
       "      <td>media/images/cover.jpg</td>\n",
       "      <td>sofia_biriouk</td>\n",
       "      <td>NaN</td>\n",
       "      <td>NaN</td>\n",
       "    </tr>\n",
       "    <tr>\n",
       "      <th>1</th>\n",
       "      <td>Vicente</td>\n",
       "      <td>Amado Olivo</td>\n",
       "      <td>media/images/ESD_headshot.jpg</td>\n",
       "      <td>media/images/cover.jpg</td>\n",
       "      <td>vicente_amado</td>\n",
       "      <td>I am a graduate student at Michigan State Univ...</td>\n",
       "      <td>NaN</td>\n",
       "    </tr>\n",
       "    <tr>\n",
       "      <th>2</th>\n",
       "      <td>Kevin</td>\n",
       "      <td>Cawley</td>\n",
       "      <td>media/images/KevinCawleyFall2022.jpg</td>\n",
       "      <td>media/images/cover.jpg</td>\n",
       "      <td>kevin_cawley</td>\n",
       "      <td>NaN</td>\n",
       "      <td>NaN</td>\n",
       "    </tr>\n",
       "    <tr>\n",
       "      <th>3</th>\n",
       "      <td>Yuki</td>\n",
       "      <td>Matsumura</td>\n",
       "      <td>media/images/yuki_face.png</td>\n",
       "      <td>media/images/cover.jpg</td>\n",
       "      <td>yuki_matsumura</td>\n",
       "      <td>Hello, I am a first-year physics graduate stud...</td>\n",
       "      <td>NaN</td>\n",
       "    </tr>\n",
       "    <tr>\n",
       "      <th>4</th>\n",
       "      <td>Wolfgang</td>\n",
       "      <td>Kerzendorf</td>\n",
       "      <td>media/images/wolfgang.jpg</td>\n",
       "      <td>media/images/cover.jpg</td>\n",
       "      <td>wolfgang_kerzendorf</td>\n",
       "      <td>I am an astrophysicist deeply intrigued by nuc...</td>\n",
       "      <td>NaN</td>\n",
       "    </tr>\n",
       "    <tr>\n",
       "      <th>5</th>\n",
       "      <td>Sona</td>\n",
       "      <td>Chitchyan</td>\n",
       "      <td>media/images/sona_photo.jpg</td>\n",
       "      <td>media/images/cover.jpg</td>\n",
       "      <td>sona_chitchyan</td>\n",
       "      <td>Sona is a Master's student in astrophysics pri...</td>\n",
       "      <td>NaN</td>\n",
       "    </tr>\n",
       "    <tr>\n",
       "      <th>6</th>\n",
       "      <td>Richard</td>\n",
       "      <td>Dow</td>\n",
       "      <td>media/images/richard.jpg</td>\n",
       "      <td>media/images/cover.jpg</td>\n",
       "      <td>richard_dow</td>\n",
       "      <td>Hi, my name is Tripp, and I'm a computer scien...</td>\n",
       "      <td>Tripp</td>\n",
       "    </tr>\n",
       "  </tbody>\n",
       "</table>\n",
       "</div>"
      ],
      "text/plain": [
       "  first_name     last_name                            image_path  \\\n",
       "0      Sofia       Biriouk                media/images/sofia.jpg   \n",
       "1    Vicente   Amado Olivo         media/images/ESD_headshot.jpg   \n",
       "2      Kevin        Cawley  media/images/KevinCawleyFall2022.jpg   \n",
       "3       Yuki     Matsumura            media/images/yuki_face.png   \n",
       "4   Wolfgang    Kerzendorf             media/images/wolfgang.jpg   \n",
       "5       Sona     Chitchyan           media/images/sona_photo.jpg   \n",
       "6    Richard           Dow              media/images/richard.jpg   \n",
       "\n",
       "         cover_image_path                   id  \\\n",
       "0  media/images/cover.jpg        sofia_biriouk   \n",
       "1  media/images/cover.jpg        vicente_amado   \n",
       "2  media/images/cover.jpg         kevin_cawley   \n",
       "3  media/images/cover.jpg       yuki_matsumura   \n",
       "4  media/images/cover.jpg  wolfgang_kerzendorf   \n",
       "5  media/images/cover.jpg       sona_chitchyan   \n",
       "6  media/images/cover.jpg          richard_dow   \n",
       "\n",
       "                                        introduction nick_name  \n",
       "0                                                NaN       NaN  \n",
       "1  I am a graduate student at Michigan State Univ...       NaN  \n",
       "2                                                NaN       NaN  \n",
       "3  Hello, I am a first-year physics graduate stud...       NaN  \n",
       "4  I am an astrophysicist deeply intrigued by nuc...       NaN  \n",
       "5  Sona is a Master's student in astrophysics pri...       NaN  \n",
       "6  Hi, my name is Tripp, and I'm a computer scien...     Tripp  "
      ]
     },
     "execution_count": 14,
     "metadata": {},
     "output_type": "execute_result"
    }
   ],
   "source": [
    "# Reading info.json\n",
    "MEMBERS_DIR = Path(\"../../group-data/members\")\n",
    "info_json_list = []\n",
    "for single_info_file_path in MEMBERS_DIR.glob(\"*/info.json\"):\n",
    "    with open(single_info_file_path, 'r') as f_info:\n",
    "        member_data = json.load(f_info)\n",
    "    info_json_list.append(member_data)\n",
    "info_json_df = pd.DataFrame(info_json_list)\n",
    "info_json_df"
   ]
  },
  {
   "cell_type": "code",
   "execution_count": 32,
   "metadata": {},
   "outputs": [
    {
     "data": {
      "text/html": [
       "<div>\n",
       "<style scoped>\n",
       "    .dataframe tbody tr th:only-of-type {\n",
       "        vertical-align: middle;\n",
       "    }\n",
       "\n",
       "    .dataframe tbody tr th {\n",
       "        vertical-align: top;\n",
       "    }\n",
       "\n",
       "    .dataframe thead th {\n",
       "        text-align: right;\n",
       "    }\n",
       "</style>\n",
       "<table border=\"1\" class=\"dataframe\">\n",
       "  <thead>\n",
       "    <tr style=\"text-align: right;\">\n",
       "      <th></th>\n",
       "      <th>id</th>\n",
       "      <th>role</th>\n",
       "      <th>start_date</th>\n",
       "      <th>end_date</th>\n",
       "      <th>institution</th>\n",
       "      <th>group</th>\n",
       "    </tr>\n",
       "  </thead>\n",
       "  <tbody>\n",
       "    <tr>\n",
       "      <th>0</th>\n",
       "      <td>sofia_biriouk</td>\n",
       "      <td>STEAM Learning and Education Intern</td>\n",
       "      <td>2023-01-01</td>\n",
       "      <td>2023-12-31</td>\n",
       "      <td>Holland Public Museum</td>\n",
       "      <td>NaN</td>\n",
       "    </tr>\n",
       "    <tr>\n",
       "      <th>1</th>\n",
       "      <td>sofia_biriouk</td>\n",
       "      <td>Undergraduate Learning Assistant for Intro to ...</td>\n",
       "      <td>2023-01-01</td>\n",
       "      <td>2023-12-31</td>\n",
       "      <td>New York University</td>\n",
       "      <td>NaN</td>\n",
       "    </tr>\n",
       "    <tr>\n",
       "      <th>2</th>\n",
       "      <td>sofia_biriouk</td>\n",
       "      <td>Professorial Assistant</td>\n",
       "      <td>2021-01-01</td>\n",
       "      <td>2023-12-31</td>\n",
       "      <td>Michigan State University</td>\n",
       "      <td>NaN</td>\n",
       "    </tr>\n",
       "    <tr>\n",
       "      <th>3</th>\n",
       "      <td>kevin_cawley</td>\n",
       "      <td>Software Intern</td>\n",
       "      <td>2022-01-01</td>\n",
       "      <td>2023-12-31</td>\n",
       "      <td>Northrop Grumman Corporation</td>\n",
       "      <td>NaN</td>\n",
       "    </tr>\n",
       "    <tr>\n",
       "      <th>4</th>\n",
       "      <td>kevin_cawley</td>\n",
       "      <td>Professorial Assistant</td>\n",
       "      <td>2020-01-01</td>\n",
       "      <td>2021-12-31</td>\n",
       "      <td>Michigan State University</td>\n",
       "      <td>NaN</td>\n",
       "    </tr>\n",
       "    <tr>\n",
       "      <th>5</th>\n",
       "      <td>wolfgang_kerzendorf</td>\n",
       "      <td>Principal Investigator</td>\n",
       "      <td>2013-01-01</td>\n",
       "      <td>NaN</td>\n",
       "      <td>TARDIS</td>\n",
       "      <td>NaN</td>\n",
       "    </tr>\n",
       "    <tr>\n",
       "      <th>6</th>\n",
       "      <td>wolfgang_kerzendorf</td>\n",
       "      <td>Assistant Professor</td>\n",
       "      <td>2019-08-15</td>\n",
       "      <td>NaN</td>\n",
       "      <td>Michigan State University</td>\n",
       "      <td>NaN</td>\n",
       "    </tr>\n",
       "    <tr>\n",
       "      <th>7</th>\n",
       "      <td>wolfgang_kerzendorf</td>\n",
       "      <td>Senior Research Associate</td>\n",
       "      <td>2019-01-01</td>\n",
       "      <td>2019-12-31</td>\n",
       "      <td>New York University</td>\n",
       "      <td>NaN</td>\n",
       "    </tr>\n",
       "    <tr>\n",
       "      <th>8</th>\n",
       "      <td>wolfgang_kerzendorf</td>\n",
       "      <td>ESO Fellow</td>\n",
       "      <td>2014-10-01</td>\n",
       "      <td>2018-12-31</td>\n",
       "      <td>European Southern Observatory</td>\n",
       "      <td>NaN</td>\n",
       "    </tr>\n",
       "    <tr>\n",
       "      <th>9</th>\n",
       "      <td>wolfgang_kerzendorf</td>\n",
       "      <td>Postdoctoral Fellow</td>\n",
       "      <td>2011-10-01</td>\n",
       "      <td>2014-09-30</td>\n",
       "      <td>University of Toronto</td>\n",
       "      <td>NaN</td>\n",
       "    </tr>\n",
       "    <tr>\n",
       "      <th>10</th>\n",
       "      <td>sona_chitchyan</td>\n",
       "      <td>NaN</td>\n",
       "      <td>NaN</td>\n",
       "      <td>NaN</td>\n",
       "      <td>NaN</td>\n",
       "      <td>kerzendorf</td>\n",
       "    </tr>\n",
       "    <tr>\n",
       "      <th>11</th>\n",
       "      <td>richard_dow</td>\n",
       "      <td>NaN</td>\n",
       "      <td>2023-05-22</td>\n",
       "      <td>2023-08-30</td>\n",
       "      <td>NaN</td>\n",
       "      <td>kerzendorf</td>\n",
       "    </tr>\n",
       "    <tr>\n",
       "      <th>12</th>\n",
       "      <td>richard_dow</td>\n",
       "      <td>Software Engineering Intern</td>\n",
       "      <td>2022-01-01</td>\n",
       "      <td>2022-12-30</td>\n",
       "      <td>Area 10 Labs</td>\n",
       "      <td>NaN</td>\n",
       "    </tr>\n",
       "    <tr>\n",
       "      <th>13</th>\n",
       "      <td>richard_dow</td>\n",
       "      <td>Research Assistant</td>\n",
       "      <td>2022-01-01</td>\n",
       "      <td>2022-12-31</td>\n",
       "      <td>University of Minnesota, Linguistics Department</td>\n",
       "      <td>NaN</td>\n",
       "    </tr>\n",
       "  </tbody>\n",
       "</table>\n",
       "</div>"
      ],
      "text/plain": [
       "                     id                                               role  \\\n",
       "0         sofia_biriouk                STEAM Learning and Education Intern   \n",
       "1         sofia_biriouk  Undergraduate Learning Assistant for Intro to ...   \n",
       "2         sofia_biriouk                             Professorial Assistant   \n",
       "3          kevin_cawley                                    Software Intern   \n",
       "4          kevin_cawley                             Professorial Assistant   \n",
       "5   wolfgang_kerzendorf                             Principal Investigator   \n",
       "6   wolfgang_kerzendorf                                Assistant Professor   \n",
       "7   wolfgang_kerzendorf                          Senior Research Associate   \n",
       "8   wolfgang_kerzendorf                                         ESO Fellow   \n",
       "9   wolfgang_kerzendorf                                Postdoctoral Fellow   \n",
       "10       sona_chitchyan                                                NaN   \n",
       "11          richard_dow                                                NaN   \n",
       "12          richard_dow                        Software Engineering Intern   \n",
       "13          richard_dow                                 Research Assistant   \n",
       "\n",
       "    start_date    end_date                                      institution  \\\n",
       "0   2023-01-01  2023-12-31                            Holland Public Museum   \n",
       "1   2023-01-01  2023-12-31                              New York University   \n",
       "2   2021-01-01  2023-12-31                        Michigan State University   \n",
       "3   2022-01-01  2023-12-31                     Northrop Grumman Corporation   \n",
       "4   2020-01-01  2021-12-31                        Michigan State University   \n",
       "5   2013-01-01         NaN                                           TARDIS   \n",
       "6   2019-08-15         NaN                        Michigan State University   \n",
       "7   2019-01-01  2019-12-31                              New York University   \n",
       "8   2014-10-01  2018-12-31                    European Southern Observatory   \n",
       "9   2011-10-01  2014-09-30                            University of Toronto   \n",
       "10         NaN         NaN                                              NaN   \n",
       "11  2023-05-22  2023-08-30                                              NaN   \n",
       "12  2022-01-01  2022-12-30                                     Area 10 Labs   \n",
       "13  2022-01-01  2022-12-31  University of Minnesota, Linguistics Department   \n",
       "\n",
       "         group  \n",
       "0          NaN  \n",
       "1          NaN  \n",
       "2          NaN  \n",
       "3          NaN  \n",
       "4          NaN  \n",
       "5          NaN  \n",
       "6          NaN  \n",
       "7          NaN  \n",
       "8          NaN  \n",
       "9          NaN  \n",
       "10  kerzendorf  \n",
       "11  kerzendorf  \n",
       "12         NaN  \n",
       "13         NaN  "
      ]
     },
     "execution_count": 32,
     "metadata": {},
     "output_type": "execute_result"
    }
   ],
   "source": [
    "# Reading experiences.json\n",
    "experiences_json_list = []\n",
    "for single_member_exp_file_path in MEMBERS_DIR.rglob(\"experiences.json\"):\n",
    "    with open(single_member_exp_file_path, \"r\") as f_exp:\n",
    "        member_exp_data = json.load(f_exp)\n",
    "    info_json_file_path = single_member_exp_file_path.parent.parent/\"info.json\"\n",
    "    with open(info_json_file_path, \"r\") as file_info:\n",
    "        member_info_data = json.load(file_info)\n",
    "    mem_id = member_info_data[\"id\"]\n",
    "    for single_exp in member_exp_data:\n",
    "        single_exp[\"id\"] = mem_id\n",
    "        experiences_json_list.append(single_exp)\n",
    "experiences_json_df = pd.DataFrame(experiences_json_list)[\n",
    "    [\n",
    "        \"id\",\n",
    "        \"role\",\n",
    "        \"start_date\",\n",
    "        \"end_date\",\n",
    "        \"institution\",\n",
    "        \"group\",\n",
    "    ]\n",
    "]\n",
    "experiences_json_df"
   ]
  },
  {
   "cell_type": "code",
   "execution_count": null,
   "metadata": {},
   "outputs": [],
   "source": [
    "class MemberData:\n",
    "    def __init__(self, member_id):\n",
    "        self.member_id = member_id\n",
    "        self.jsons_path = self._find_jsons_path(member_id)\n",
    "\n",
    "    def _find_jsons_path(self, member_id):\n",
    "        members_dir = \"../group-data/members/\"\n",
    "\n",
    "        for dir_name in os.listdir(members_dir):\n",
    "            dir_path = os.path.join(members_dir, dir_name)\n",
    "            if os.path.isdir(dir_path):\n",
    "                jsons_dir = os.path.join(dir_path, \"jsons\")\n",
    "                basic_info_file = os.path.join(jsons_dir, \"basic_info.json\")\n",
    "                if os.path.isfile(basic_info_file):\n",
    "                    with open(basic_info_file, \"r\") as f:\n",
    "                        basic_info = json.load(f)\n",
    "                    if basic_info.get(\"id\") == member_id:\n",
    "                        return jsons_dir\n",
    "        return \"Couldn't find {member_id}\"\n",
    "\n",
    "    def _load_json(self, json_file):\n",
    "        file_path = os.path.join(self.jsons_path, json_file)\n",
    "        with open(file_path, \"r\") as f:\n",
    "            data = json.load(f)\n",
    "        return data\n",
    "\n",
    "    def _check_display(self, data):\n",
    "        if isinstance(data, dict):\n",
    "            if \"display\" in data:\n",
    "                display = data[\"display\"]\n",
    "                if isinstance(display, bool):\n",
    "                    return display\n",
    "                elif isinstance(display, dict):\n",
    "                    if display[\"kg\"] == True:\n",
    "                        return True\n",
    "            for value in data.values():\n",
    "                if self._check_display(value):\n",
    "                    return True\n",
    "        elif isinstance(data, list):\n",
    "            for item in data:\n",
    "                if self._check_display(item):\n",
    "                    return True\n",
    "        return False\n",
    "\n",
    "\n",
    "    def awards(self):\n",
    "        data = self._load_json(\"awards.json\")\n",
    "        return data\n",
    "\n",
    "\n",
    "    def basic_info(self):\n",
    "        data = self._load_json(\"basic_info.json\")\n",
    "        if \"start_date\" in data:\n",
    "            data[\"group_start_date\"] = data.pop(\"start_date\")\n",
    "        if \"end_date\" in data:\n",
    "            data[\"group_end_date\"] = data.pop(\"end_date\")\n",
    "        return data\n",
    "\n",
    "\n",
    "    def education(self):\n",
    "        data = self._load_json(\"education.json\")\n",
    "        return data\n",
    "\n",
    "    def experience(self):\n",
    "        data = self._load_json(\"experience.json\")\n",
    "        return data\n",
    "\n",
    "    def outreach(self):\n",
    "        data = self._load_json(\"outreach.json\")\n",
    "        return data\n",
    "\n",
    "    def documents(self):\n",
    "        data = self._load_json(\"docs.json\")\n",
    "        return data\n",
    "\n",
    "    def publications(self):\n",
    "        data = self._load_json(\"publications.json\")\n",
    "        return data\n",
    "\n",
    "    def projects(self):\n",
    "        data = self._load_json(\"projects.json\")\n",
    "        return data\n",
    "\n",
    "    def social_links(self):\n",
    "        data = self._load_json(\"social_links.json\")\n",
    "        return data\n",
    "\n",
    "    def website_media(self):\n",
    "        data = self._load_json(\"website_media.json\")\n",
    "        return data\n"
   ]
  },
  {
   "cell_type": "code",
   "execution_count": null,
   "metadata": {},
   "outputs": [],
   "source": [
    "\n",
    "member=MemberData(\"harshul_gupta\")\n",
    "basic=member.basic_info()\n",
    "basic\n"
   ]
  },
  {
   "cell_type": "code",
   "execution_count": null,
   "metadata": {},
   "outputs": [],
   "source": [
    "class ContentData:\n",
    "    def __init__(self, article_id):\n",
    "        self.article_id = article_id\n",
    "        self.json_path = self._find_jsons_path(article_id)\n",
    "\n",
    "    def _find_jsons_path(self, article_id):\n",
    "        content_dir = \"../group-data/website_data/content/\"\n",
    "        for file_name in os.listdir(content_dir):\n",
    "            file_path = os.path.join(content_dir, file_name)\n",
    "            if os.path.isfile(file_path):\n",
    "                with open(file_path, \"r\") as f:\n",
    "                    content_data = json.load(f)\n",
    "                if content_data.get(\"article_id\") == article_id:\n",
    "                    return file_path\n",
    "\n",
    "        raise ValueError(f\"Article ID '{article_id}' not found.\")\n",
    "\n",
    "    def load_json(self):\n",
    "        with open(self.json_path, \"r\") as f:\n",
    "            data = json.load(f)\n",
    "        return data"
   ]
  },
  {
   "cell_type": "code",
   "execution_count": null,
   "metadata": {},
   "outputs": [],
   "source": [
    "#Creating an instance of the Environment class that looks for templates. Page_link is set to the global variable so that it can be accessed by all templates\n",
    "environment = Environment(loader=FileSystemLoader('templates/'),extensions=['jinja2.ext.loopcontrols'])\n",
    "environment.globals['page_link'] = page_link\n",
    "environment.globals['MemberData'] = MemberData\n",
    "environment.globals['ContentData'] = ContentData"
   ]
  },
  {
   "cell_type": "code",
   "execution_count": null,
   "metadata": {},
   "outputs": [],
   "source": [
    "people_id_data = {\"id\": [], \"category\": []}\n",
    "non_mem_data = {\"id\": [], \"category\": []}\n",
    "members_directory = '../group-data/members/'\n",
    "\n",
    "for member_dir in os.listdir(members_directory):\n",
    "    member_path = os.path.join(members_directory, member_dir)\n",
    "    if os.path.isdir(member_path):\n",
    "        jsons_directory = os.path.join(member_path, 'jsons')\n",
    "        if os.path.isdir(jsons_directory):\n",
    "            for json_file in os.listdir(jsons_directory):\n",
    "                if json_file.endswith('info.json'):\n",
    "                    json_path = os.path.join(jsons_directory, json_file)\n",
    "                    with open(json_path, 'r') as file:\n",
    "                        info = json.load(file)\n",
    "                        if info.get('display') and info['display'].get('dti'):\n",
    "                            if info['display']['dti']:\n",
    "                                people_id_data['id'].append(info.get('id'))\n",
    "                                people_id_data['category'].append(info.get('category'))\n",
    "                        else:\n",
    "                            non_mem_data['id'].append(info.get('id'))\n",
    "                            non_mem_data['category'].append(info.get('category'))\n",
    "\n",
    "people_df = pd.DataFrame(people_id_data)\n",
    "non_mem_df = pd.DataFrame(non_mem_data)\n",
    "\n",
    "sorting_order = [\n",
    "    \"Faculty\", \"Postdoctoral Researchers\", \"Graduate Students\",\n",
    "    \"Undergraduate Students\", \"Researchers\", \"Research Software Engineers\"\n",
    "]\n",
    "\n",
    "people_df['sorting_order'] = people_df['category'].apply(lambda x: sorting_order.index(x) if x in sorting_order else -1)\n",
    "\n",
    "people_df  = people_df.sort_values(['sorting_order', 'id'], ascending=[True, True])\n",
    "people_df.drop('sorting_order', axis=1, inplace=True)"
   ]
  },
  {
   "cell_type": "code",
   "execution_count": null,
   "metadata": {},
   "outputs": [],
   "source": [
    "non_mem_df"
   ]
  },
  {
   "cell_type": "code",
   "execution_count": null,
   "metadata": {},
   "outputs": [],
   "source": [
    "content_id_data = {\"article_id\": [], \"category\": [], \"date\": [], \"tags\": []}\n",
    "content_directory = '../group-data/website_data/content'\n",
    "\n",
    "for json_file in os.listdir(content_directory):\n",
    "    if json_file.endswith('.json'):\n",
    "        json_path = os.path.join(content_directory, json_file)\n",
    "        with open(json_path, 'r') as file:\n",
    "            info = json.load(file)\n",
    "            if info.get('display'):\n",
    "                content_id_data['article_id'].append(info.get('article_id'))\n",
    "                content_id_data['category'].append(info.get('category'))\n",
    "                content_id_data['date'].append(info.get('article_date'))\n",
    "                content_id_data['tags'].append(info.get('tags'))\n",
    "\n",
    "content_df = pd.DataFrame(content_id_data)\n",
    "content_df['date'] = pd.to_datetime(content_df['date'], format='%m-%d-%Y')\n",
    "content_df = content_df.groupby('category').apply(lambda x: x.sort_values('date', ascending=False)).reset_index(drop=True)"
   ]
  },
  {
   "cell_type": "code",
   "execution_count": null,
   "metadata": {},
   "outputs": [],
   "source": [
    "research_content_unsorted = content_df[content_df['tags'].apply(lambda x: any('research' in tag for tag in x))]\n",
    "research_content = research_content_unsorted.groupby('category').apply(lambda x: x.sort_values('date', ascending=False)).reset_index(drop=True)"
   ]
  },
  {
   "cell_type": "code",
   "execution_count": null,
   "metadata": {},
   "outputs": [],
   "source": [
    "content_df"
   ]
  },
  {
   "cell_type": "code",
   "execution_count": null,
   "metadata": {},
   "outputs": [],
   "source": [
    "news_content_unsorted = content_df[content_df['tags'].apply(lambda x: any('news' in tag for tag in x))]\n",
    "news_content = news_content_unsorted.sort_values(by=\"date\", ascending=False)"
   ]
  },
  {
   "cell_type": "code",
   "execution_count": null,
   "metadata": {},
   "outputs": [],
   "source": [
    "latest_content_df = pd.DataFrame()\n",
    "\n",
    "for category in content_df.category.unique():\n",
    "    latest_data = pd.Series(content_df[content_df.category == category].iloc[0])\n",
    "    latest_content_df = latest_content_df._append(latest_data, ignore_index=True)\n",
    "\n",
    "latest_content_df['date'] = pd.to_datetime(latest_content_df['date'], format='%m-%d-%Y')\n",
    "latest_content_df = latest_content_df.sort_values(by='date', ascending=False)"
   ]
  },
  {
   "cell_type": "code",
   "execution_count": null,
   "metadata": {},
   "outputs": [],
   "source": [
    "json_files = ['general', 'homepage', 'research', 'support', 'contact']\n",
    "data = {}\n",
    "\n",
    "for json_file in json_files:\n",
    "    try:\n",
    "        with open(f\"../group-data/website_data/{json_file}.json\") as json_var:\n",
    "            data[json_file] = json.load(json_var)\n",
    "    except (FileNotFoundError, json.JSONDecodeError):\n",
    "        pass"
   ]
  },
  {
   "attachments": {},
   "cell_type": "markdown",
   "metadata": {},
   "source": [
    "##### Homepage"
   ]
  },
  {
   "cell_type": "code",
   "execution_count": null,
   "metadata": {},
   "outputs": [],
   "source": [
    "homepage_template = environment.get_template('homepage.html.j2')"
   ]
  },
  {
   "cell_type": "code",
   "execution_count": null,
   "metadata": {},
   "outputs": [],
   "source": [
    "homepage_content = homepage_template.render(general=data['general'], homepage=data['homepage'], recent_content=latest_content_df.to_dict(orient='records'), encoding='utf-8')\n"
   ]
  },
  {
   "cell_type": "code",
   "execution_count": null,
   "metadata": {},
   "outputs": [],
   "source": [
    "with open('../deepthought-initiative.github.io/index.html', mode='w', encoding='utf-8') as Homepage:\n",
    "    Homepage.write(homepage_content)"
   ]
  },
  {
   "attachments": {},
   "cell_type": "markdown",
   "metadata": {},
   "source": [
    "##### People Page"
   ]
  },
  {
   "cell_type": "code",
   "execution_count": null,
   "metadata": {},
   "outputs": [],
   "source": [
    "people_template = environment.get_template(\"people.html.j2\")"
   ]
  },
  {
   "cell_type": "code",
   "execution_count": null,
   "metadata": {},
   "outputs": [],
   "source": [
    "people_content = people_template.render(general=data[\"general\"], \n",
    "                                        members=people_df['id'])"
   ]
  },
  {
   "cell_type": "code",
   "execution_count": null,
   "metadata": {},
   "outputs": [],
   "source": [
    "with open(\"../deepthought-initiative.github.io/People.html\", mode=\"w\", encoding=\"utf-8\") as people:\n",
    "    people.write(people_content)"
   ]
  },
  {
   "attachments": {},
   "cell_type": "markdown",
   "metadata": {},
   "source": [
    "##### Individual People Page"
   ]
  },
  {
   "cell_type": "code",
   "execution_count": null,
   "metadata": {},
   "outputs": [],
   "source": [
    "ind_person_template = environment.get_template(\"individual_person.html.j2\")"
   ]
  },
  {
   "cell_type": "code",
   "execution_count": null,
   "metadata": {},
   "outputs": [],
   "source": [
    "for person in people_df['id']:\n",
    "            filename = f\"../deepthought-initiative.github.io/members/{ person }/{ person }.html\"\n",
    "            ind_person_content = ind_person_template.render(general=data[\"general\"], \n",
    "                                                            member_id=person, \n",
    "                                                            content=content_df.to_dict(orient='records'))\n",
    "            with open(filename, mode=\"w\", encoding=\"utf-8\") as page:\n",
    "                page.write(ind_person_content)"
   ]
  },
  {
   "attachments": {},
   "cell_type": "markdown",
   "metadata": {},
   "source": [
    "##### Research Page"
   ]
  },
  {
   "cell_type": "code",
   "execution_count": null,
   "metadata": {},
   "outputs": [],
   "source": [
    "research_template = environment.get_template(\"research.html.j2\")"
   ]
  },
  {
   "cell_type": "code",
   "execution_count": null,
   "metadata": {},
   "outputs": [],
   "source": [
    "main_page_research_content = research_template.render(general=data[\"general\"],\n",
    "                                            content=research_content)"
   ]
  },
  {
   "cell_type": "code",
   "execution_count": null,
   "metadata": {},
   "outputs": [],
   "source": [
    "with open(\"../deepthought-initiative.github.io/Research.html\", mode=\"w\", encoding=\"utf-8\") as research:\n",
    "        research.write(main_page_research_content)"
   ]
  },
  {
   "cell_type": "code",
   "execution_count": null,
   "metadata": {},
   "outputs": [],
   "source": [
    "sub_research_template = environment.get_template(\"sub_research_frontpage.html.j2\")"
   ]
  },
  {
   "cell_type": "code",
   "execution_count": null,
   "metadata": {},
   "outputs": [],
   "source": [
    "for category in content_df.loc[content_df.category != \"News\", \"category\"].unique():\n",
    "        sub_research_content = sub_research_template.render(general=data[\"general\"], \n",
    "                                                            research_general=data[\"research\"], \n",
    "                                                            content = research_content,\n",
    "                                                            category = category\n",
    "                                                            )\n",
    "        folder_path = f\"../deepthought-initiative.github.io/sub_research/{page_link(category.lower())}\"\n",
    "        os.makedirs(folder_path, exist_ok=True)\n",
    "        with open(f\"../deepthought-initiative.github.io/sub_research/{page_link(category.lower())}.html\", mode=\"w\", encoding=\"utf-8\") as sub_research:\n",
    "            sub_research.write(sub_research_content)"
   ]
  },
  {
   "attachments": {},
   "cell_type": "markdown",
   "metadata": {},
   "source": [
    "##### Individual Research Page"
   ]
  },
  {
   "cell_type": "code",
   "execution_count": null,
   "metadata": {},
   "outputs": [],
   "source": [
    "template_no_twitter = environment.get_template(\"research_page_no_twitter.html.j2\")"
   ]
  },
  {
   "cell_type": "code",
   "execution_count": null,
   "metadata": {},
   "outputs": [],
   "source": [
    "for ind_research_keys, ind_research_values in research_content.iterrows():\n",
    "    if \"news\" not in ind_research_values.category.lower():\n",
    "        ind_research_content = template_no_twitter.render(general=data[\"general\"], \n",
    "                                                          member_ids=people_df['id'],\n",
    "                                                           nonmem_ids = non_mem_df['id'],\n",
    "                                                          content=ind_research_values)\n",
    "        folder_path = f\"../deepthought-initiative.github.io/sub_research/{page_link(ind_research_values.category.lower())}\"\n",
    "        os.makedirs(folder_path, exist_ok=True)\n",
    "        with open(f\"{folder_path}/{page_link(ind_research_values.article_id.lower())}.html\", mode=\"w\", encoding=\"utf-8\") as ind_research_page:\n",
    "            ind_research_page.write(ind_research_content)\n"
   ]
  },
  {
   "attachments": {},
   "cell_type": "markdown",
   "metadata": {},
   "source": [
    "##### News Page"
   ]
  },
  {
   "cell_type": "code",
   "execution_count": null,
   "metadata": {},
   "outputs": [],
   "source": [
    "news_template = environment.get_template(\"news.html.j2\")"
   ]
  },
  {
   "cell_type": "code",
   "execution_count": null,
   "metadata": {},
   "outputs": [],
   "source": [
    "news_page_content = news_template.render(general=data[\"general\"],\n",
    "                                         content=news_content,\n",
    "                                         member_ids=people_df['id'],\n",
    "                                         nonmem_ids = non_mem_df['id'],\n",
    "                                         category=\"News\")"
   ]
  },
  {
   "cell_type": "code",
   "execution_count": null,
   "metadata": {},
   "outputs": [],
   "source": [
    "with open(\"../deepthought-initiative.github.io/News.html\", mode=\"w\", encoding=\"utf-8\") as news:\n",
    "        news.write(news_page_content)"
   ]
  },
  {
   "attachments": {},
   "cell_type": "markdown",
   "metadata": {},
   "source": [
    "##### Individual News Pages"
   ]
  },
  {
   "cell_type": "code",
   "execution_count": null,
   "metadata": {},
   "outputs": [],
   "source": [
    "news_template_no_twitter = environment.get_template(\"news_page_no_twitter.html.j2\")\n",
    "#news_template_twitter = environment.get_template(\"news_page_twitter.html.j2\")"
   ]
  },
  {
   "cell_type": "code",
   "execution_count": null,
   "metadata": {},
   "outputs": [],
   "source": [
    "for ind_news_keys, ind_news_values in news_content.iterrows():\n",
    "        ind_news_content = news_template_no_twitter.render(general=data[\"general\"], \n",
    "                                                          member_ids = people_df['id'],\n",
    "                                                          nonmem_ids = non_mem_df['id'],\n",
    "                                                          content = ind_news_values\n",
    "                                                            )\n",
    "        folder_path = f\"../deepthought-initiative.github.io/news/\"\n",
    "        os.makedirs(folder_path, exist_ok=True)\n",
    "        with open(f\"{ folder_path }/{page_link(ind_news_values.article_id.lower())}.html\", mode=\"w\", encoding=\"utf-8\") as ind_news_page:\n",
    "            ind_news_page.write(ind_news_content)"
   ]
  },
  {
   "attachments": {},
   "cell_type": "markdown",
   "metadata": {},
   "source": [
    "##### Support Page"
   ]
  },
  {
   "cell_type": "code",
   "execution_count": null,
   "metadata": {},
   "outputs": [],
   "source": [
    "support_template = environment.get_template('support.html.j2')"
   ]
  },
  {
   "cell_type": "code",
   "execution_count": null,
   "metadata": {},
   "outputs": [],
   "source": [
    "support_content = support_template.render(general=data[\"general\"], support=data[\"support\"])"
   ]
  },
  {
   "cell_type": "code",
   "execution_count": null,
   "metadata": {},
   "outputs": [],
   "source": [
    "with open('../deepthought-initiative.github.io/Support.html', mode='w', encoding='utf-8') as support:\n",
    "    support.write(support_content)"
   ]
  },
  {
   "attachments": {},
   "cell_type": "markdown",
   "metadata": {},
   "source": [
    "##### Contact"
   ]
  },
  {
   "cell_type": "code",
   "execution_count": null,
   "metadata": {},
   "outputs": [],
   "source": [
    "contact_template = environment.get_template('contact.html.j2')"
   ]
  },
  {
   "cell_type": "code",
   "execution_count": null,
   "metadata": {},
   "outputs": [],
   "source": [
    "contact_content = contact_template.render(general=data[\"general\"], contact=data[\"contact\"])"
   ]
  },
  {
   "cell_type": "code",
   "execution_count": null,
   "metadata": {},
   "outputs": [],
   "source": [
    "with open('../deepthought-initiative.github.io/Contact.html', mode='w', encoding='utf-8') as contact:\n",
    "    contact.write(contact_content)"
   ]
  }
 ],
 "metadata": {
  "kernelspec": {
   "display_name": "Python 3",
   "language": "python",
   "name": "python3"
  },
  "language_info": {
   "codemirror_mode": {
    "name": "ipython",
    "version": 3
   },
   "file_extension": ".py",
   "mimetype": "text/x-python",
   "name": "python",
   "nbconvert_exporter": "python",
   "pygments_lexer": "ipython3",
   "version": "3.10.12"
  },
  "orig_nbformat": 4
 },
 "nbformat": 4,
 "nbformat_minor": 2
}
