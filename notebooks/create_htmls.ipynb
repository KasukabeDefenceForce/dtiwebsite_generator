{
    "cells": [
        {
            "attachments": {},
            "cell_type": "markdown",
            "metadata": {},
            "source": [
                "### This notebook consist of code for creating the html files for the website each time data is updated."
            ]
        },
        {
            "cell_type": "markdown",
            "metadata": {},
            "source": [
                "## Set-up"
            ]
        },
        {
            "cell_type": "code",
            "execution_count": 520,
            "metadata": {},
            "outputs": [],
            "source": [
                "import json\n",
                "import os\n",
                "from pathlib import Path\n",
                "import glob\n",
                "import shutil\n",
                "import pandas as pd\n",
                "from jinja2 import Environment, FileSystemLoader\n",
                "from jinja2.exceptions import UndefinedError"
            ]
        },
        {
            "cell_type": "code",
            "execution_count": 521,
            "metadata": {},
            "outputs": [],
            "source": [
                "def delete_ds_store(path):\n",
                "\n",
                "    ds_store_files = glob.glob(os.path.join(path, '**', '.DS_Store'), recursive=True)\n",
                "    \n",
                "\n",
                "    for file_path in ds_store_files:\n",
                "        os.remove(file_path)\n",
                "        print(f\"Deleted: {file_path}\")\n",
                "        \n",
                "\n",
                "current_directory = os.getcwd()\n",
                "\n",
                "\n",
                "delete_ds_store(current_directory)\n"
            ]
        },
        {
            "cell_type": "markdown",
            "metadata": {},
            "source": [
                "Defining Constants"
            ]
        },
        {
            "cell_type": "code",
            "execution_count": 522,
            "metadata": {},
            "outputs": [],
            "source": [
                "# Defining Paths\n",
                "GROUP_DATA_DIR = Path(\"../../group-data\")\n",
                "TEMPLATE_DIR_PATH = GROUP_DATA_DIR.parent / \"dtiwebsite_generator\" / \"templates\"\n",
                "WEBSITE_DATA_PATH = GROUP_DATA_DIR / \"website_data/\"\n",
                "HOSTING_PATH = GROUP_DATA_DIR.parent / \"deepthought-initiative.github.io\"\n",
                "CONTENT_DIR_PATH = WEBSITE_DATA_PATH / \"content\"\n",
                "MEMBERS_DIR = GROUP_DATA_DIR / \"members\"\n",
                "SUB_RESEARCH_PATH = HOSTING_PATH / \"sub_research\"\n",
                "\n",
                "\n",
                "INSTITUTION_FILTER = \"Michigan State University\"\n",
                "GROUP_FILTER = [\"DTI\", \"TARDIS\", \"ICER\", \"kerzendorf\"]\n",
                "INDIVIDUAL_MEMBER_SECTION_MAP = {\n",
                "    \"education\": \"Education\",\n",
                "    \"experiences\": \"Experience\",\n",
                "    \"projects\": \"Projects\",\n",
                "    \"awards\": \"Awards & Recognition\",\n",
                "    \"outreach\": \"Outreach Programs\",\n",
                "}"
            ]
        },
        {
            "cell_type": "code",
            "execution_count": 523,
            "metadata": {},
            "outputs": [],
            "source": [
                "# # Copying people directories\n",
                "\n",
                "# def copy_folders(source, destination):\n",
                "#     try:\n",
                "#         shutil.copytree(source, destination)\n",
                "#         print(\"Folders copied successfully!\")\n",
                "#     except shutil.Error as e:\n",
                "#         print(f\"Error copying folders: {e}\")\n",
                "#     except OSError as e:\n",
                "#         print(f\"Error creating destination directory: {e}\")\n",
                "\n",
                "# source_dir = \"../temp/group-data/members\"\n",
                "# destination_dir = \"../group-data/members\"\n",
                "\n",
                "# for folder_name in os.listdir(source_dir):\n",
                "#     folder_path = os.path.join(source_dir, folder_name)\n",
                "#     if os.path.isdir(folder_path):\n",
                "#         json_path = os.path.join(folder_path, \"jsons\", \"basic_info.json\")\n",
                "#         if os.path.exists(json_path):\n",
                "#             with open(json_path) as f:\n",
                "#                 data = json.load(f)\n",
                "#                 display_info = data.get(\"display\", {})\n",
                "#                 if display_info.get(\"dti\", True):\n",
                "#                     destination_folder = os.path.join(destination_dir, folder_name)\n",
                "#                     copy_folders(folder_path, destination_folder)"
            ]
        },
        {
            "cell_type": "code",
            "execution_count": 524,
            "metadata": {},
            "outputs": [],
            "source": [
                "# # Copying common article content\n",
                "# source_folder = '../temp/group-data/website_data'\n",
                "# destination_folder = '../group-data/website_data'\n",
                "\n",
                "# def copy_json_files(source_folder, destination_folder):\n",
                "#     source_content_folder = os.path.join(source_folder, 'content')\n",
                "#     destination_content_folder = os.path.join(destination_folder, 'content')\n",
                "#     destination_website_files_folder = os.path.join(destination_folder, 'website_files')\n",
                "\n",
                "#     os.makedirs(destination_content_folder, exist_ok=True)\n",
                "#     os.makedirs(destination_website_files_folder, exist_ok=True)\n",
                "\n",
                "#     for filename in os.listdir(source_content_folder):\n",
                "#         if filename.endswith('.json'):\n",
                "#             file_path = os.path.join(source_content_folder, filename)\n",
                "#             with open(file_path, 'r') as file:\n",
                "#                 try:\n",
                "#                     json_data = json.load(file)\n",
                "#                     platforms = json_data.get('platforms')\n",
                "#                     if platforms and 'dti' in platforms:\n",
                "#                         destination_path = os.path.join(destination_content_folder, filename)\n",
                "#                         shutil.copy(file_path, destination_path)\n",
                "#                         print(f\"Copied file: {filename} from '{source_content_folder}' to '{destination_content_folder}'\")\n",
                "\n",
                "#                         process_cover_image(json_data, source_folder, destination_website_files_folder)\n",
                "#                         process_content_images(json_data, source_folder, destination_website_files_folder)\n",
                "\n",
                "#                 except json.JSONDecodeError:\n",
                "#                     print(f\"Error decoding JSON in file: {file_path}\")\n",
                "\n",
                "# def process_cover_image(json_data, source_folder, destination_website_files_folder):\n",
                "#     cover_image_path = json_data.get('cover_image')\n",
                "#     if cover_image_path:\n",
                "#         source_image_path = os.path.join(source_folder, cover_image_path)\n",
                "#         if os.path.exists(source_image_path):\n",
                "#             destination_image_path = os.path.join(destination_website_files_folder, 'images', 'article_content', os.path.basename(cover_image_path))\n",
                "#             os.makedirs(os.path.dirname(destination_image_path), exist_ok=True)\n",
                "#             shutil.copy(source_image_path, destination_image_path)\n",
                "#             print(f\"Copied file: {cover_image_path} from '{source_folder}' to '{destination_image_path}'\")\n",
                "\n",
                "# def process_content_images(json_data, source_folder, destination_website_files_folder):\n",
                "#     content = json_data.get('content')\n",
                "#     if content:\n",
                "#         for key, value in content.items():\n",
                "#             if key.startswith('img'):\n",
                "#                 image_path = value\n",
                "#                 if image_path:\n",
                "#                     source_image_path = os.path.join(source_folder, image_path)\n",
                "#                     if os.path.exists(source_image_path):\n",
                "#                         destination_image_path = os.path.join(destination_website_files_folder, 'images', 'article_content', os.path.basename(image_path))\n",
                "#                         os.makedirs(os.path.dirname(destination_image_path), exist_ok=True)\n",
                "#                         shutil.copy(source_image_path, destination_image_path)\n",
                "#                         print(f\"Copied file: {image_path} from '{source_folder}' to '{destination_image_path}'\")\n",
                "\n",
                "# copy_json_files(source_folder, destination_folder)\n"
            ]
        },
        {
            "cell_type": "markdown",
            "metadata": {},
            "source": [
                "Setting up jinja environment"
            ]
        },
        {
            "cell_type": "code",
            "execution_count": 525,
            "metadata": {},
            "outputs": [],
            "source": [
                "def page_link(a):\n",
                "    \"\"\"Return the HTML file name after replacing blank spaces(\" \") with underscores(\"-\")\"\"\"\n",
                "    return a.replace(\" \", \"_\") if \" \" in a else a\n",
                "\n",
                "environment = Environment(\n",
                "    loader=FileSystemLoader(TEMPLATE_DIR_PATH),\n",
                "    extensions=[\"jinja2.ext.loopcontrols\", \"jinja2.ext.do\"],\n",
                ")\n",
                "environment.globals[\"page_link\"] = page_link"
            ]
        },
        {
            "cell_type": "code",
            "execution_count": 526,
            "metadata": {},
            "outputs": [],
            "source": [
                "def create_page(template, html, **kwargs):\n",
                "    \"\"\"\n",
                "    Create an HTML page using a Jinja2 template and save it to a specified path.\n",
                "\n",
                "    Parameters:\n",
                "    ----------\n",
                "    template : str\n",
                "        The filename of the Jinja2 template to be used.\n",
                "    html : str\n",
                "        The filename of the HTML file to be generated.\n",
                "    **kwargs : dict\n",
                "        Additional keyword arguments to be passed to the Jinja2 template for rendering.\n",
                "\n",
                "    Returns:\n",
                "    -------\n",
                "    None\n",
                "\n",
                "    \"\"\"\n",
                "    page_template = environment.get_template(template)\n",
                "    template_level = html.count(\"/\")\n",
                "    page_html_path = HOSTING_PATH / html\n",
                "    page_content = page_template.render(TEMPLATE_LEVEL=template_level, **kwargs)\n",
                "    with open(page_html_path, mode=\"w\", encoding=\"utf-8\") as page:\n",
                "        page.write(page_content)"
            ]
        },
        {
            "cell_type": "code",
            "execution_count": 527,
            "metadata": {},
            "outputs": [],
            "source": [
                "def loading_website_data(file_to_load):\n",
                "    \"\"\"\n",
                "    Load data from JSON files specified in a list of file names.\n",
                "\n",
                "    Parameters:\n",
                "    ----------\n",
                "    json_data_list : list of str\n",
                "        A list of file names (without extension) to load as JSON.\n",
                "\n",
                "    Returns:\n",
                "    -------\n",
                "    dict\n",
                "        A dictionary where keys are file names and values are the corresponding JSON data.\n",
                "\n",
                "    Raises:\n",
                "    ------\n",
                "    FileNotFoundError:\n",
                "        If a specified file does not exist.\n",
                "    json.JSONDecodeError:\n",
                "        If there's an issue decoding the JSON content from a file.\n",
                "\n",
                "    \"\"\"\n",
                "    loaded_data = {}\n",
                "    file_matches = WEBSITE_DATA_PATH/ f\"{file_to_load}.json\"\n",
                "\n",
                "    if file_matches:\n",
                "        try:\n",
                "            with open(file_matches, \"r\") as json_file:\n",
                "                loaded_data = json.load(json_file)\n",
                "        except json.JSONDecodeError:\n",
                "            print(f\"Error decoding JSON in '{file_matches}'.\")\n",
                "    else:\n",
                "        print(f\"File '{file_to_load}.json' not found.\")\n",
                "\n",
                "    return loaded_data"
            ]
        },
        {
            "cell_type": "code",
            "execution_count": 528,
            "metadata": {},
            "outputs": [],
            "source": [
                "def read_member_data_jsons(file_to_read):\n",
                "    data_list = []\n",
                "    for single_member_file_path in MEMBERS_DIR.rglob(f\"{file_to_read}\"):\n",
                "        with open(single_member_file_path, \"r\") as fname:\n",
                "            member_data = json.load(fname)\n",
                "        info_json_file_path = single_member_file_path.parent.parent / \"info.json\"\n",
                "        with open(info_json_file_path, \"r\") as file_info:\n",
                "            member_info_data = json.load(file_info)\n",
                "        mem_id = member_info_data[\"id\"]\n",
                "        for single_entry in member_data:\n",
                "            single_entry[\"id\"] = mem_id\n",
                "            data_list.append(single_entry)\n",
                "    if len(data_list) == 0:\n",
                "        member_data_df = pd.DataFrame()\n",
                "    else:\n",
                "        member_data_df = pd.DataFrame(data_list)\n",
                "        member_data_df.set_index(\"id\", inplace=True)\n",
                "    return member_data_df"
            ]
        },
        {
            "cell_type": "markdown",
            "metadata": {},
            "source": [
                "## Reading data"
            ]
        },
        {
            "cell_type": "code",
            "execution_count": 529,
            "metadata": {},
            "outputs": [],
            "source": [
                "# Reading website data\n",
                "general = loading_website_data(\"general\")\n",
                "homepage = loading_website_data(\"homepage\")\n",
                "contact = loading_website_data(\"contact\")\n",
                "research = loading_website_data(\"research\")\n",
                "support = loading_website_data(\"support\")"
            ]
        },
        {
            "cell_type": "code",
            "execution_count": 530,
            "metadata": {},
            "outputs": [],
            "source": [
                "# Reading all articles\n",
                "article_content_list = []\n",
                "for content_file_name in CONTENT_DIR_PATH.iterdir():\n",
                "    with open(content_file_name, \"r\") as fcontent:\n",
                "        article_content = json.load(fcontent)\n",
                "    article_content_list.append(article_content)\n",
                "article_content_df = pd.DataFrame(article_content_list)\n",
                "\n",
                "article_content_df[\"date\"] = pd.to_datetime(\n",
                "    article_content_df[\"date\"], format=\"%m-%d-%Y\"\n",
                ")"
            ]
        },
        {
            "cell_type": "markdown",
            "metadata": {},
            "source": [
                "Categorizing news and research articles"
            ]
        },
        {
            "cell_type": "code",
            "execution_count": 531,
            "metadata": {},
            "outputs": [],
            "source": [
                "news_content_df = article_content_df[\n",
                "    (article_content_df[\"category\"] == \"News\")\n",
                "    | (\n",
                "        article_content_df[\"tags\"].apply(\n",
                "            lambda x: \"news\" in x if isinstance(x, list) else False\n",
                "        )\n",
                "    )\n",
                "].sort_values(by=[\"date\"], ascending=[False])\n",
                "\n",
                "research_content_df = article_content_df[\n",
                "    article_content_df[\"category\"] != \"News\"\n",
                "].sort_values(by=[\"category\", \"date\"], ascending=[True, False])"
            ]
        },
        {
            "cell_type": "markdown",
            "metadata": {},
            "source": [
                "Reading personal member data from info.json"
            ]
        },
        {
            "cell_type": "code",
            "execution_count": 532,
            "metadata": {},
            "outputs": [],
            "source": [
                "info_json_list = []\n",
                "for single_info_file_path in MEMBERS_DIR.glob(\"*/info.json\"):\n",
                "    with open(single_info_file_path, 'r') as f_info:\n",
                "        member_data = json.load(f_info)\n",
                "    info_json_list.append(member_data)\n",
                "info_json_df = pd.DataFrame(info_json_list) \n",
                "info_json_df.set_index(\"id\", inplace=True)\n",
                "info_json_df[\"full_name\"] = info_json_df.apply(\n",
                "    lambda row: (\n",
                "        row[\"nick_name\"] + \" \" + row[\"last_name\"]\n",
                "        if pd.notna(row[\"nick_name\"])\n",
                "        else row[\"first_name\"] + \" \" + row[\"last_name\"]\n",
                "    ),\n",
                "    axis=1,\n",
                ")\n",
                "info_json_dict = info_json_df.to_dict(\"index\")"
            ]
        },
        {
            "cell_type": "markdown",
            "metadata": {},
            "source": [
                "Reading various json files"
            ]
        },
        {
            "cell_type": "code",
            "execution_count": 533,
            "metadata": {},
            "outputs": [],
            "source": [
                "exp_df = read_member_data_jsons(\"experiences.json\")[\n",
                "    [\n",
                "        \"role\",\n",
                "        \"start_date\",\n",
                "        \"end_date\",\n",
                "        \"institution\",\n",
                "        \"group\",\n",
                "    ]\n",
                "]\n",
                "edu_df = read_member_data_jsons(\"education.json\")[\n",
                "    [\"start_date\", \"end_date\", \"institution\", \"subject\", \"degree\"]\n",
                "]"
            ]
        },
        {
            "cell_type": "markdown",
            "metadata": {},
            "source": [
                "Reading social_links json"
            ]
        },
        {
            "cell_type": "code",
            "execution_count": 534,
            "metadata": {},
            "outputs": [],
            "source": [
                "social_link_list = []\n",
                "for single_member_file_path in MEMBERS_DIR.rglob(\"social_links.json\"):\n",
                "    with open(single_member_file_path, \"r\") as fname:\n",
                "        member_social_link = json.load(fname)\n",
                "    info_json_file_path = single_member_file_path.parent.parent / \"info.json\"\n",
                "    with open(info_json_file_path, \"r\") as file_info:\n",
                "        member_info_data = json.load(file_info)\n",
                "    mem_id = member_info_data[\"id\"]\n",
                "    member_social_link[\"id\"] = mem_id\n",
                "    social_link_list.append(member_social_link)\n",
                "social_links_df = pd.DataFrame(social_link_list)\n",
                "social_links_df.set_index(\"id\", inplace=True)\n",
                "social_links_df.fillna(\"\", inplace=True)"
            ]
        },
        {
            "cell_type": "markdown",
            "metadata": {},
            "source": [
                "## Homepage"
            ]
        },
        {
            "cell_type": "code",
            "execution_count": 535,
            "metadata": {},
            "outputs": [],
            "source": [
                "recent_content = article_content_df.sort_values(\n",
                "    by=[\"category\", \"date\"], ascending=[True, False]\n",
                ")\n",
                "# Get the first row for each category using groupby and head\n",
                "recent_content = recent_content.groupby(\"category\").head(1).copy()"
            ]
        },
        {
            "cell_type": "code",
            "execution_count": 536,
            "metadata": {},
            "outputs": [],
            "source": [
                "create_page(\n",
                "    \"homepage.html.j2\",\n",
                "    \"index.html\",\n",
                "    general=general,\n",
                "    homepage=homepage,\n",
                "    recent_content=recent_content.to_dict(orient=\"records\"),\n",
                ")"
            ]
        },
        {
            "cell_type": "markdown",
            "metadata": {},
            "source": [
                "## Support Page"
            ]
        },
        {
            "cell_type": "code",
            "execution_count": 537,
            "metadata": {},
            "outputs": [],
            "source": [
                "create_page(\"support.html.j2\", \"Support.html\", general=general, support=support)"
            ]
        },
        {
            "cell_type": "markdown",
            "metadata": {},
            "source": [
                "## Contact Page"
            ]
        },
        {
            "cell_type": "code",
            "execution_count": 538,
            "metadata": {},
            "outputs": [],
            "source": [
                "create_page(\"contact.html.j2\", \"Contact.html\", general=general, contact=contact)"
            ]
        },
        {
            "cell_type": "markdown",
            "metadata": {},
            "source": [
                "## News Page"
            ]
        },
        {
            "cell_type": "code",
            "execution_count": 539,
            "metadata": {},
            "outputs": [],
            "source": [
                "create_page(\n",
                "    \"news.html.j2\",\n",
                "    \"News.html\",\n",
                "    general=general,\n",
                "    content=news_content_df,\n",
                "    category=\"news\",\n",
                "    member_data=info_json_dict,\n",
                ")"
            ]
        },
        {
            "cell_type": "markdown",
            "metadata": {},
            "source": [
                "## Individual News Page"
            ]
        },
        {
            "cell_type": "code",
            "execution_count": 540,
            "metadata": {},
            "outputs": [],
            "source": [
                "for ind_news_keys, ind_news_values in news_content_df.iterrows():\n",
                "    folder_path = HOSTING_PATH / \"news\" / page_link(ind_news_values.article_id.lower())\n",
                "    create_page(\n",
                "        \"news_page_no_twitter.html.j2\",\n",
                "        f\"news/{page_link(ind_news_values.article_id.lower())}.html\",\n",
                "        general=general,\n",
                "        content=ind_news_values,\n",
                "        member_data=info_json_dict,\n",
                "        category=\"News\",\n",
                "    )"
            ]
        },
        {
            "cell_type": "markdown",
            "metadata": {},
            "source": [
                "## Research Page"
            ]
        },
        {
            "cell_type": "code",
            "execution_count": 541,
            "metadata": {},
            "outputs": [],
            "source": [
                "create_page(\n",
                "    \"computational_metascience.html.j2\",\n",
                "    \"computational_metascience.html\",\n",
                "    general=general,\n",
                "    content=research_content_df,\n",
                "    current_members=info_json_dict,\n",
                "    research=research,\n",
                ")"
            ]
        },
        {
            "cell_type": "markdown",
            "metadata": {},
            "source": [
                "## Sub-Research Page"
            ]
        },
        {
            "cell_type": "code",
            "execution_count": 542,
            "metadata": {},
            "outputs": [],
            "source": [
                "SUB_RESEARCH_PATH.mkdir(parents=True, exist_ok=True)\n",
                "\n",
                "for category in article_content_df.loc[\n",
                "    article_content_df.category != \"News\", \"category\"\n",
                "].unique():\n",
                "    create_page(\n",
                "        \"sub_research_frontpage.html.j2\",\n",
                "        f\"sub_research/{page_link(category.lower())}.html\",\n",
                "        general=general,\n",
                "        research=research,\n",
                "        content=research_content_df,\n",
                "        category=category,\n",
                "        current_members=info_json_dict,\n",
                "    )"
            ]
        },
        {
            "cell_type": "markdown",
            "metadata": {},
            "source": [
                "## Individual Research Page"
            ]
        },
        {
            "cell_type": "code",
            "execution_count": 543,
            "metadata": {},
            "outputs": [],
            "source": [
                "for ind_research_keys, ind_research_values in research_content_df.iterrows():\n",
                "    folder_path = SUB_RESEARCH_PATH / page_link(ind_research_values.category.lower())\n",
                "    folder_path.mkdir(parents=True, exist_ok=True)\n",
                "    create_page(\n",
                "        \"research_page_no_twitter.html.j2\",\n",
                "        f\"sub_research/{page_link(ind_research_values.category.lower())}/{page_link(ind_research_values.article_id.lower())}.html\",\n",
                "        general=general,\n",
                "        content=ind_research_values,\n",
                "        member_data=info_json_df.to_dict(\"index\"),\n",
                "        article_id=ind_research_values[\"article_id\"],\n",
                "    )"
            ]
        },
        {
            "cell_type": "markdown",
            "metadata": {},
            "source": [
                "## Current members Page"
            ]
        },
        {
            "cell_type": "code",
            "execution_count": 544,
            "metadata": {},
            "outputs": [],
            "source": [
                "filtered_exp_df = exp_df[exp_df[\"end_date\"].isna()]\n",
                "def most_recent_row(group):\n",
                "    return group[group[\"start_date\"] == group[\"start_date\"].max()]\n",
                "filtered_exp_df_most_recent = (\n",
                "    filtered_exp_df.groupby(\"id\").apply(most_recent_row).droplevel(0)\n",
                ")"
            ]
        },
        {
            "cell_type": "code",
            "execution_count": 545,
            "metadata": {},
            "outputs": [],
            "source": [
                "filtered_edu_df = edu_df[edu_df[\"end_date\"].isna()]"
            ]
        },
        {
            "cell_type": "code",
            "execution_count": 546,
            "metadata": {},
            "outputs": [],
            "source": [
                "exp_ids = filtered_exp_df_most_recent.index.unique()\n",
                "edu_ids = filtered_edu_df.index.unique()\n",
                "common_ids = list(set(exp_ids).union(edu_ids))\n",
                "current_member_df = info_json_df.loc[common_ids]"
            ]
        },
        {
            "cell_type": "code",
            "execution_count": 547,
            "metadata": {},
            "outputs": [],
            "source": [
                "for m_key, m_value in current_member_df.iterrows():\n",
                "    if m_key in filtered_edu_df.index:\n",
                "        if (\n",
                "            filtered_edu_df.loc[m_key, \"degree\"] == \"Bachelors\"\n",
                "            and filtered_edu_df.loc[m_key, \"institution\"] == INSTITUTION_FILTER\n",
                "        ):\n",
                "            current_academic_role = \"Undergraduate Student\"\n",
                "        if filtered_edu_df.loc[m_key, \"degree\"] in [\"PhD\", \"Masters\"]:\n",
                "            current_academic_role = \"Graduate Student\"\n",
                "    elif m_key in filtered_exp_df_most_recent.index:\n",
                "        current_academic_role = filtered_exp_df_most_recent.loc[m_key, \"role\"]\n",
                "    else:\n",
                "        current_academic_role = \"\"\n",
                "    current_member_df.loc[m_key,\"academic_role\"] = current_academic_role"
            ]
        },
        {
            "cell_type": "code",
            "execution_count": 548,
            "metadata": {},
            "outputs": [],
            "source": [
                "projects_df = read_member_data_jsons(\"projects.json\").sort_values(\n",
                "    by=[\"end_date\"], ascending=False\n",
                ")"
            ]
        },
        {
            "cell_type": "code",
            "execution_count": 549,
            "metadata": {},
            "outputs": [
                {
                    "data": {
                        "text/html": [
                            "<div>\n",
                            "<style scoped>\n",
                            "    .dataframe tbody tr th:only-of-type {\n",
                            "        vertical-align: middle;\n",
                            "    }\n",
                            "\n",
                            "    .dataframe tbody tr th {\n",
                            "        vertical-align: top;\n",
                            "    }\n",
                            "\n",
                            "    .dataframe thead th {\n",
                            "        text-align: right;\n",
                            "    }\n",
                            "</style>\n",
                            "<table border=\"1\" class=\"dataframe\">\n",
                            "  <thead>\n",
                            "    <tr style=\"text-align: right;\">\n",
                            "      <th></th>\n",
                            "      <th>first_name</th>\n",
                            "      <th>last_name</th>\n",
                            "      <th>image_path</th>\n",
                            "      <th>cover_image_path</th>\n",
                            "      <th>introduction</th>\n",
                            "      <th>nick_name</th>\n",
                            "      <th>full_name</th>\n",
                            "      <th>academic_role</th>\n",
                            "      <th>current_project_title</th>\n",
                            "    </tr>\n",
                            "    <tr>\n",
                            "      <th>id</th>\n",
                            "      <th></th>\n",
                            "      <th></th>\n",
                            "      <th></th>\n",
                            "      <th></th>\n",
                            "      <th></th>\n",
                            "      <th></th>\n",
                            "      <th></th>\n",
                            "      <th></th>\n",
                            "      <th></th>\n",
                            "    </tr>\n",
                            "  </thead>\n",
                            "  <tbody>\n",
                            "    <tr>\n",
                            "      <th>wolfgang_kerzendorf</th>\n",
                            "      <td>Wolfgang</td>\n",
                            "      <td>Kerzendorf</td>\n",
                            "      <td>media/images/wolfgang.jpg</td>\n",
                            "      <td>media/images/cover.jpg</td>\n",
                            "      <td>I am an astrophysicist deeply intrigued by nuc...</td>\n",
                            "      <td>NaN</td>\n",
                            "      <td>Wolfgang Kerzendorf</td>\n",
                            "      <td>Assistant Professor</td>\n",
                            "      <td>Supernovae &amp; Computational Metaresearch</td>\n",
                            "    </tr>\n",
                            "    <tr>\n",
                            "      <th>atharva_arya</th>\n",
                            "      <td>Atharva</td>\n",
                            "      <td>Arya</td>\n",
                            "      <td>media/images/atharva.jpg</td>\n",
                            "      <td>media/images/cover.jpg</td>\n",
                            "      <td>I joined TARDIS as a GSoC 2021 student and I h...</td>\n",
                            "      <td>NaN</td>\n",
                            "      <td>Atharva Arya</td>\n",
                            "      <td>Research Software Engineer</td>\n",
                            "      <td>Mitigating open science sustainability issues</td>\n",
                            "    </tr>\n",
                            "    <tr>\n",
                            "      <th>benjamin_mellon</th>\n",
                            "      <td>Benjamin</td>\n",
                            "      <td>Mellon</td>\n",
                            "      <td>media/images/ben.png</td>\n",
                            "      <td>media/images/cover.jpeg</td>\n",
                            "      <td>I am an undergraduate research assistant in th...</td>\n",
                            "      <td>NaN</td>\n",
                            "      <td>Benjamin Mellon</td>\n",
                            "      <td>Research Assistant</td>\n",
                            "      <td></td>\n",
                            "    </tr>\n",
                            "    <tr>\n",
                            "      <th>bea_lu</th>\n",
                            "      <td>Bea</td>\n",
                            "      <td>Lu</td>\n",
                            "      <td>media/images/bea_lu.jpg</td>\n",
                            "      <td>media/images/cover.jpg</td>\n",
                            "      <td>Hi, my name is Bea and I am currently a studen...</td>\n",
                            "      <td>NaN</td>\n",
                            "      <td>Bea Lu</td>\n",
                            "      <td>Undergraduate Student</td>\n",
                            "      <td>Natural Language Processing</td>\n",
                            "    </tr>\n",
                            "    <tr>\n",
                            "      <th>abhinav_ohri</th>\n",
                            "      <td>Abhinav</td>\n",
                            "      <td>Ohri</td>\n",
                            "      <td>media/images/abhinav_ohri.jpg</td>\n",
                            "      <td>media/images/cover.jpg</td>\n",
                            "      <td>Hi there! This is Abhinav.</td>\n",
                            "      <td>NaN</td>\n",
                            "      <td>Abhinav Ohri</td>\n",
                            "      <td>Research Software Engineer</td>\n",
                            "      <td></td>\n",
                            "    </tr>\n",
                            "    <tr>\n",
                            "      <th>vicente_amado</th>\n",
                            "      <td>Vicente</td>\n",
                            "      <td>Amado Olivo</td>\n",
                            "      <td>media/images/ESD_headshot.jpg</td>\n",
                            "      <td>media/images/cover.jpg</td>\n",
                            "      <td>I am a graduate student at Michigan State Univ...</td>\n",
                            "      <td>NaN</td>\n",
                            "      <td>Vicente  Amado Olivo</td>\n",
                            "      <td>Graduate Student</td>\n",
                            "      <td>Development Of A Global Registry For Peer Revi...</td>\n",
                            "    </tr>\n",
                            "    <tr>\n",
                            "      <th>richard_dow</th>\n",
                            "      <td>Richard</td>\n",
                            "      <td>Dow</td>\n",
                            "      <td>media/images/richard.jpg</td>\n",
                            "      <td>media/images/cover.jpg</td>\n",
                            "      <td>Hi, my name is Tripp, and I'm a computer scien...</td>\n",
                            "      <td>Tripp</td>\n",
                            "      <td>Tripp Dow</td>\n",
                            "      <td>Graduate Student</td>\n",
                            "      <td>Identifying Worldwide Astrophysicists From Sci...</td>\n",
                            "    </tr>\n",
                            "  </tbody>\n",
                            "</table>\n",
                            "</div>"
                        ],
                        "text/plain": [
                            "                    first_name     last_name                     image_path  \\\n",
                            "id                                                                            \n",
                            "wolfgang_kerzendorf   Wolfgang    Kerzendorf      media/images/wolfgang.jpg   \n",
                            "atharva_arya           Atharva          Arya       media/images/atharva.jpg   \n",
                            "benjamin_mellon       Benjamin        Mellon           media/images/ben.png   \n",
                            "bea_lu                     Bea            Lu        media/images/bea_lu.jpg   \n",
                            "abhinav_ohri           Abhinav          Ohri  media/images/abhinav_ohri.jpg   \n",
                            "vicente_amado          Vicente   Amado Olivo  media/images/ESD_headshot.jpg   \n",
                            "richard_dow            Richard           Dow       media/images/richard.jpg   \n",
                            "\n",
                            "                            cover_image_path  \\\n",
                            "id                                             \n",
                            "wolfgang_kerzendorf   media/images/cover.jpg   \n",
                            "atharva_arya          media/images/cover.jpg   \n",
                            "benjamin_mellon      media/images/cover.jpeg   \n",
                            "bea_lu                media/images/cover.jpg   \n",
                            "abhinav_ohri          media/images/cover.jpg   \n",
                            "vicente_amado         media/images/cover.jpg   \n",
                            "richard_dow           media/images/cover.jpg   \n",
                            "\n",
                            "                                                          introduction  \\\n",
                            "id                                                                       \n",
                            "wolfgang_kerzendorf  I am an astrophysicist deeply intrigued by nuc...   \n",
                            "atharva_arya         I joined TARDIS as a GSoC 2021 student and I h...   \n",
                            "benjamin_mellon      I am an undergraduate research assistant in th...   \n",
                            "bea_lu               Hi, my name is Bea and I am currently a studen...   \n",
                            "abhinav_ohri                                Hi there! This is Abhinav.   \n",
                            "vicente_amado        I am a graduate student at Michigan State Univ...   \n",
                            "richard_dow          Hi, my name is Tripp, and I'm a computer scien...   \n",
                            "\n",
                            "                    nick_name             full_name  \\\n",
                            "id                                                    \n",
                            "wolfgang_kerzendorf       NaN   Wolfgang Kerzendorf   \n",
                            "atharva_arya              NaN          Atharva Arya   \n",
                            "benjamin_mellon           NaN       Benjamin Mellon   \n",
                            "bea_lu                    NaN                Bea Lu   \n",
                            "abhinav_ohri              NaN          Abhinav Ohri   \n",
                            "vicente_amado             NaN  Vicente  Amado Olivo   \n",
                            "richard_dow             Tripp             Tripp Dow   \n",
                            "\n",
                            "                                  academic_role  \\\n",
                            "id                                                \n",
                            "wolfgang_kerzendorf         Assistant Professor   \n",
                            "atharva_arya         Research Software Engineer   \n",
                            "benjamin_mellon              Research Assistant   \n",
                            "bea_lu                    Undergraduate Student   \n",
                            "abhinav_ohri         Research Software Engineer   \n",
                            "vicente_amado                  Graduate Student   \n",
                            "richard_dow                    Graduate Student   \n",
                            "\n",
                            "                                                 current_project_title  \n",
                            "id                                                                      \n",
                            "wolfgang_kerzendorf            Supernovae & Computational Metaresearch  \n",
                            "atharva_arya             Mitigating open science sustainability issues  \n",
                            "benjamin_mellon                                                         \n",
                            "bea_lu                                     Natural Language Processing  \n",
                            "abhinav_ohri                                                            \n",
                            "vicente_amado        Development Of A Global Registry For Peer Revi...  \n",
                            "richard_dow          Identifying Worldwide Astrophysicists From Sci...  "
                        ]
                    },
                    "execution_count": 549,
                    "metadata": {},
                    "output_type": "execute_result"
                }
            ],
            "source": [
                "for mem_key, mem_value in current_member_df.iterrows():\n",
                "    if mem_key in projects_df.index:\n",
                "        mem_projects = projects_df.loc[mem_key]\n",
                "        if not mem_projects.empty:\n",
                "            if isinstance(mem_projects, pd.Series):\n",
                "                current_project_title = mem_projects[\"project_title\"]\n",
                "            else:\n",
                "                current_project_title = mem_projects.iloc[0][\"project_title\"]\n",
                "    else:\n",
                "        current_project_title = \"\"\n",
                "    current_member_df.loc[mem_key, \"current_project_title\"] = current_project_title"
            ]
        },
        {
            "cell_type": "code",
            "execution_count": 550,
            "metadata": {},
            "outputs": [],
            "source": [
                "create_page(\n",
                "    \"current_members.html.j2\",\n",
                "    \"current_members.html\",\n",
                "    general=general,\n",
                "    current_members=current_member_df.to_dict(\"index\"),\n",
                "    socials=social_links_df.to_dict(\"index\"),\n",
                ")"
            ]
        },
        {
            "cell_type": "markdown",
            "metadata": {},
            "source": [
                "## Alumni Members Page"
            ]
        },
        {
            "cell_type": "code",
            "execution_count": 551,
            "metadata": {},
            "outputs": [],
            "source": [
                "def most_recent_row_end_date(group):\n",
                "    return group[group[\"end_date\"] == group[\"end_date\"].max()]"
            ]
        },
        {
            "cell_type": "code",
            "execution_count": 552,
            "metadata": {},
            "outputs": [],
            "source": [
                "alumni_filtered_edu_df = edu_df[edu_df[\"end_date\"].notna()]\n",
                "req_edu_df = alumni_filtered_edu_df.loc[\n",
                "    alumni_filtered_edu_df[\"institution\"] == INSTITUTION_FILTER\n",
                "]\n",
                "req_edu_df_most_recent = req_edu_df.groupby(\"id\").apply(most_recent_row_end_date).droplevel(0)\n",
                "\n",
                "\n",
                "alumni_filtered_exp_df = exp_df[exp_df[\"end_date\"].notna()]\n",
                "req_exp_df = alumni_filtered_exp_df.loc[\n",
                "    (alumni_filtered_exp_df[\"institution\"] == INSTITUTION_FILTER)\n",
                "    | (alumni_filtered_exp_df[\"group\"].isin(GROUP_FILTER))\n",
                "]\n",
                "req_exp_df_most_recent = (\n",
                "    req_exp_df.groupby(\"id\").apply(most_recent_row_end_date).droplevel(0)\n",
                ")"
            ]
        },
        {
            "cell_type": "code",
            "execution_count": 553,
            "metadata": {},
            "outputs": [],
            "source": [
                "alumni_exp_ids = req_exp_df_most_recent.index.unique()\n",
                "alumni_edu_ids = req_edu_df_most_recent.index.unique()\n",
                "alumni_common_ids = list(set(alumni_exp_ids).union(alumni_edu_ids))\n",
                "alumni_member_df = info_json_df.loc[alumni_common_ids]"
            ]
        },
        {
            "cell_type": "code",
            "execution_count": 554,
            "metadata": {},
            "outputs": [],
            "source": [
                "for m_key, m_value in alumni_member_df.iterrows():\n",
                "    if m_key in req_edu_df_most_recent.index:\n",
                "        if (\n",
                "            req_edu_df_most_recent.loc[m_key, \"degree\"] == \"Bachelors\"\n",
                "            and req_edu_df_most_recent.loc[m_key, \"institution\"] == INSTITUTION_FILTER\n",
                "        ):\n",
                "            current_academic_role = \"Undergraduate Student\"\n",
                "        if req_edu_df_most_recent.loc[m_key, \"degree\"] in [\"PhD\", \"Masters\"]:\n",
                "            current_academic_role = \"Graduate Student\"\n",
                "    elif m_key in req_exp_df_most_recent.index:\n",
                "        current_academic_role = req_exp_df_most_recent.loc[m_key, \"role\"]\n",
                "    else:\n",
                "        current_academic_role = \"\"\n",
                "    alumni_member_df.loc[m_key, \"academic_role\"] = str(current_academic_role)\n",
                "alumni_member_df['academic_role'] = alumni_member_df['academic_role'].fillna(\"\")"
            ]
        },
        {
            "cell_type": "code",
            "execution_count": 555,
            "metadata": {},
            "outputs": [],
            "source": [
                "create_page(\n",
                "    \"alumni_members.html.j2\",\n",
                "    \"alumni_members.html\",\n",
                "    general=general,\n",
                "    alumni_members=alumni_member_df.to_dict(\"index\"),\n",
                ")"
            ]
        },
        {
            "attachments": {},
            "cell_type": "markdown",
            "metadata": {},
            "source": [
                "## Individual People Page"
            ]
        },
        {
            "cell_type": "code",
            "execution_count": 556,
            "metadata": {},
            "outputs": [],
            "source": [
                "def group_df(df):\n",
                "    new_df = (df.groupby(\"id\")\n",
                "    .apply(lambda x: x.to_dict(orient=\"records\"))\n",
                "    .reset_index(name=\"info\")\n",
                "    .set_index(\"id\")\n",
                "    .to_dict(orient=\"index\"))\n",
                "    return new_df"
            ]
        },
        {
            "cell_type": "code",
            "execution_count": 557,
            "metadata": {},
            "outputs": [
                {
                    "data": {
                        "text/html": [
                            "<div>\n",
                            "<style scoped>\n",
                            "    .dataframe tbody tr th:only-of-type {\n",
                            "        vertical-align: middle;\n",
                            "    }\n",
                            "\n",
                            "    .dataframe tbody tr th {\n",
                            "        vertical-align: top;\n",
                            "    }\n",
                            "\n",
                            "    .dataframe thead th {\n",
                            "        text-align: right;\n",
                            "    }\n",
                            "</style>\n",
                            "<table border=\"1\" class=\"dataframe\">\n",
                            "  <thead>\n",
                            "    <tr style=\"text-align: right;\">\n",
                            "      <th></th>\n",
                            "    </tr>\n",
                            "  </thead>\n",
                            "  <tbody>\n",
                            "  </tbody>\n",
                            "</table>\n",
                            "</div>"
                        ],
                        "text/plain": [
                            "Empty DataFrame\n",
                            "Columns: []\n",
                            "Index: []"
                        ]
                    },
                    "execution_count": 557,
                    "metadata": {},
                    "output_type": "execute_result"
                }
            ],
            "source": [
                "document_df = read_member_data_jsons(\"documents.json\")"
            ]
        },
        {
            "cell_type": "code",
            "execution_count": 558,
            "metadata": {},
            "outputs": [],
            "source": [
                "outreach_df = read_member_data_jsons(\"outreach.json\")\n",
                "if not outreach_df.empty:\n",
                "    outreach_grouped = group_df(outreach_df)"
            ]
        },
        {
            "cell_type": "code",
            "execution_count": 559,
            "metadata": {},
            "outputs": [],
            "source": [
                "awards_df = read_member_data_jsons(\"awards.json\")\n",
                "awards_grouped = group_df(awards_df)\n",
                "\n",
                "exp_grouped = group_df(exp_df)\n",
                "edu_grouped = group_df(edu_df)\n",
                "projects_grouped = group_df(projects_df)"
            ]
        },
        {
            "cell_type": "code",
            "execution_count": 560,
            "metadata": {},
            "outputs": [
                {
                    "data": {
                        "text/html": [
                            "<div>\n",
                            "<style scoped>\n",
                            "    .dataframe tbody tr th:only-of-type {\n",
                            "        vertical-align: middle;\n",
                            "    }\n",
                            "\n",
                            "    .dataframe tbody tr th {\n",
                            "        vertical-align: top;\n",
                            "    }\n",
                            "\n",
                            "    .dataframe thead th {\n",
                            "        text-align: right;\n",
                            "    }\n",
                            "</style>\n",
                            "<table border=\"1\" class=\"dataframe\">\n",
                            "  <thead>\n",
                            "    <tr style=\"text-align: right;\">\n",
                            "      <th></th>\n",
                            "      <th>first_name</th>\n",
                            "      <th>last_name</th>\n",
                            "      <th>image_path</th>\n",
                            "      <th>cover_image_path</th>\n",
                            "      <th>introduction</th>\n",
                            "      <th>nick_name</th>\n",
                            "      <th>full_name</th>\n",
                            "      <th>academic_role</th>\n",
                            "      <th>current_project_title</th>\n",
                            "    </tr>\n",
                            "    <tr>\n",
                            "      <th>id</th>\n",
                            "      <th></th>\n",
                            "      <th></th>\n",
                            "      <th></th>\n",
                            "      <th></th>\n",
                            "      <th></th>\n",
                            "      <th></th>\n",
                            "      <th></th>\n",
                            "      <th></th>\n",
                            "      <th></th>\n",
                            "    </tr>\n",
                            "  </thead>\n",
                            "  <tbody>\n",
                            "    <tr>\n",
                            "      <th>wolfgang_kerzendorf</th>\n",
                            "      <td>Wolfgang</td>\n",
                            "      <td>Kerzendorf</td>\n",
                            "      <td>media/images/wolfgang.jpg</td>\n",
                            "      <td>media/images/cover.jpg</td>\n",
                            "      <td>I am an astrophysicist deeply intrigued by nuc...</td>\n",
                            "      <td>NaN</td>\n",
                            "      <td>Wolfgang Kerzendorf</td>\n",
                            "      <td>Assistant Professor</td>\n",
                            "      <td>Supernovae &amp; Computational Metaresearch</td>\n",
                            "    </tr>\n",
                            "    <tr>\n",
                            "      <th>atharva_arya</th>\n",
                            "      <td>Atharva</td>\n",
                            "      <td>Arya</td>\n",
                            "      <td>media/images/atharva.jpg</td>\n",
                            "      <td>media/images/cover.jpg</td>\n",
                            "      <td>I joined TARDIS as a GSoC 2021 student and I h...</td>\n",
                            "      <td>NaN</td>\n",
                            "      <td>Atharva Arya</td>\n",
                            "      <td>Research Software Engineer</td>\n",
                            "      <td>Mitigating open science sustainability issues</td>\n",
                            "    </tr>\n",
                            "    <tr>\n",
                            "      <th>benjamin_mellon</th>\n",
                            "      <td>Benjamin</td>\n",
                            "      <td>Mellon</td>\n",
                            "      <td>media/images/ben.png</td>\n",
                            "      <td>media/images/cover.jpeg</td>\n",
                            "      <td>I am an undergraduate research assistant in th...</td>\n",
                            "      <td>NaN</td>\n",
                            "      <td>Benjamin Mellon</td>\n",
                            "      <td>Research Assistant</td>\n",
                            "      <td></td>\n",
                            "    </tr>\n",
                            "    <tr>\n",
                            "      <th>bea_lu</th>\n",
                            "      <td>Bea</td>\n",
                            "      <td>Lu</td>\n",
                            "      <td>media/images/bea_lu.jpg</td>\n",
                            "      <td>media/images/cover.jpg</td>\n",
                            "      <td>Hi, my name is Bea and I am currently a studen...</td>\n",
                            "      <td>NaN</td>\n",
                            "      <td>Bea Lu</td>\n",
                            "      <td>Undergraduate Student</td>\n",
                            "      <td>Natural Language Processing</td>\n",
                            "    </tr>\n",
                            "    <tr>\n",
                            "      <th>abhinav_ohri</th>\n",
                            "      <td>Abhinav</td>\n",
                            "      <td>Ohri</td>\n",
                            "      <td>media/images/abhinav_ohri.jpg</td>\n",
                            "      <td>media/images/cover.jpg</td>\n",
                            "      <td>Hi there! This is Abhinav.</td>\n",
                            "      <td>NaN</td>\n",
                            "      <td>Abhinav Ohri</td>\n",
                            "      <td>Research Software Engineer</td>\n",
                            "      <td></td>\n",
                            "    </tr>\n",
                            "    <tr>\n",
                            "      <th>vicente_amado</th>\n",
                            "      <td>Vicente</td>\n",
                            "      <td>Amado Olivo</td>\n",
                            "      <td>media/images/ESD_headshot.jpg</td>\n",
                            "      <td>media/images/cover.jpg</td>\n",
                            "      <td>I am a graduate student at Michigan State Univ...</td>\n",
                            "      <td>NaN</td>\n",
                            "      <td>Vicente  Amado Olivo</td>\n",
                            "      <td>Graduate Student</td>\n",
                            "      <td>Development Of A Global Registry For Peer Revi...</td>\n",
                            "    </tr>\n",
                            "    <tr>\n",
                            "      <th>richard_dow</th>\n",
                            "      <td>Richard</td>\n",
                            "      <td>Dow</td>\n",
                            "      <td>media/images/richard.jpg</td>\n",
                            "      <td>media/images/cover.jpg</td>\n",
                            "      <td>Hi, my name is Tripp, and I'm a computer scien...</td>\n",
                            "      <td>Tripp</td>\n",
                            "      <td>Tripp Dow</td>\n",
                            "      <td>Graduate Student</td>\n",
                            "      <td>Identifying Worldwide Astrophysicists From Sci...</td>\n",
                            "    </tr>\n",
                            "  </tbody>\n",
                            "</table>\n",
                            "</div>"
                        ],
                        "text/plain": [
                            "                    first_name     last_name                     image_path  \\\n",
                            "id                                                                            \n",
                            "wolfgang_kerzendorf   Wolfgang    Kerzendorf      media/images/wolfgang.jpg   \n",
                            "atharva_arya           Atharva          Arya       media/images/atharva.jpg   \n",
                            "benjamin_mellon       Benjamin        Mellon           media/images/ben.png   \n",
                            "bea_lu                     Bea            Lu        media/images/bea_lu.jpg   \n",
                            "abhinav_ohri           Abhinav          Ohri  media/images/abhinav_ohri.jpg   \n",
                            "vicente_amado          Vicente   Amado Olivo  media/images/ESD_headshot.jpg   \n",
                            "richard_dow            Richard           Dow       media/images/richard.jpg   \n",
                            "\n",
                            "                            cover_image_path  \\\n",
                            "id                                             \n",
                            "wolfgang_kerzendorf   media/images/cover.jpg   \n",
                            "atharva_arya          media/images/cover.jpg   \n",
                            "benjamin_mellon      media/images/cover.jpeg   \n",
                            "bea_lu                media/images/cover.jpg   \n",
                            "abhinav_ohri          media/images/cover.jpg   \n",
                            "vicente_amado         media/images/cover.jpg   \n",
                            "richard_dow           media/images/cover.jpg   \n",
                            "\n",
                            "                                                          introduction  \\\n",
                            "id                                                                       \n",
                            "wolfgang_kerzendorf  I am an astrophysicist deeply intrigued by nuc...   \n",
                            "atharva_arya         I joined TARDIS as a GSoC 2021 student and I h...   \n",
                            "benjamin_mellon      I am an undergraduate research assistant in th...   \n",
                            "bea_lu               Hi, my name is Bea and I am currently a studen...   \n",
                            "abhinav_ohri                                Hi there! This is Abhinav.   \n",
                            "vicente_amado        I am a graduate student at Michigan State Univ...   \n",
                            "richard_dow          Hi, my name is Tripp, and I'm a computer scien...   \n",
                            "\n",
                            "                    nick_name             full_name  \\\n",
                            "id                                                    \n",
                            "wolfgang_kerzendorf       NaN   Wolfgang Kerzendorf   \n",
                            "atharva_arya              NaN          Atharva Arya   \n",
                            "benjamin_mellon           NaN       Benjamin Mellon   \n",
                            "bea_lu                    NaN                Bea Lu   \n",
                            "abhinav_ohri              NaN          Abhinav Ohri   \n",
                            "vicente_amado             NaN  Vicente  Amado Olivo   \n",
                            "richard_dow             Tripp             Tripp Dow   \n",
                            "\n",
                            "                                  academic_role  \\\n",
                            "id                                                \n",
                            "wolfgang_kerzendorf         Assistant Professor   \n",
                            "atharva_arya         Research Software Engineer   \n",
                            "benjamin_mellon              Research Assistant   \n",
                            "bea_lu                    Undergraduate Student   \n",
                            "abhinav_ohri         Research Software Engineer   \n",
                            "vicente_amado                  Graduate Student   \n",
                            "richard_dow                    Graduate Student   \n",
                            "\n",
                            "                                                 current_project_title  \n",
                            "id                                                                      \n",
                            "wolfgang_kerzendorf            Supernovae & Computational Metaresearch  \n",
                            "atharva_arya             Mitigating open science sustainability issues  \n",
                            "benjamin_mellon                                                         \n",
                            "bea_lu                                     Natural Language Processing  \n",
                            "abhinav_ohri                                                            \n",
                            "vicente_amado        Development Of A Global Registry For Peer Revi...  \n",
                            "richard_dow          Identifying Worldwide Astrophysicists From Sci...  "
                        ]
                    },
                    "execution_count": 560,
                    "metadata": {},
                    "output_type": "execute_result"
                }
            ],
            "source": [
                "for member_id, member_data in info_json_df.iterrows():\n",
                "    if member_id in current_member_df.index:\n",
                "        info_json_df.at[member_id, \"academic_role\"] = current_member_df.loc[\n",
                "            member_id, \"academic_role\"\n",
                "        ]\n",
                "        info_json_df.at[member_id, \"current_project_title\"] = current_member_df.loc[\n",
                "            member_id, \"current_project_title\"\n",
                "        ]\n",
                "    elif member_id in alumni_member_df.index:\n",
                "        info_json_df.at[member_id, \"academic_role\"] = alumni_member_df.loc[\n",
                "            member_id, \"academic_role\"\n",
                "        ]\n",
                "current_member_df"
            ]
        },
        {
            "cell_type": "code",
            "execution_count": 561,
            "metadata": {},
            "outputs": [],
            "source": [
                "for person_id, person_data in info_json_df.iterrows():\n",
                "    create_page(\n",
                "        \"individual_person.html.j2\",\n",
                "        f\"members/{person_id}/{person_id}.html\",\n",
                "        general=general,\n",
                "        member_id=person_id,\n",
                "        member_data=person_data,\n",
                "        socials=social_links_df.to_dict(\"index\"),\n",
                "        documents=document_df.to_dict(\"index\"),\n",
                "        education=edu_grouped,\n",
                "        experience=exp_grouped,\n",
                "        projects=projects_grouped,\n",
                "        awards=awards_grouped,\n",
                "        outreach=outreach_df,\n",
                "        section_headings=INDIVIDUAL_MEMBER_SECTION_MAP,\n",
                "        content=article_content_df.to_dict(\"index\"),\n",
                "    )"
            ]
        }
    ],
    "metadata": {
        "kernelspec": {
            "display_name": "Python 3",
            "language": "python",
            "name": "python3"
        },
        "language_info": {
            "codemirror_mode": {
                "name": "ipython",
                "version": 3
            },
            "file_extension": ".py",
            "mimetype": "text/x-python",
            "name": "python",
            "nbconvert_exporter": "python",
            "pygments_lexer": "ipython3",
            "version": "3.10.12"
        },
        "orig_nbformat": 4
    },
    "nbformat": 4,
    "nbformat_minor": 2
}
